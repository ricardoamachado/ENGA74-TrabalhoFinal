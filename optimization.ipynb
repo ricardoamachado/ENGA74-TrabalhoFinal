{
 "cells": [
  {
   "cell_type": "code",
   "execution_count": 161,
   "id": "4cf1e36a",
   "metadata": {},
   "outputs": [],
   "source": [
    "import torch\n",
    "import torch.nn as nn\n",
    "import torch.optim as optim\n",
    "from torch.utils.data import TensorDataset, DataLoader\n",
    "import pandas as pd\n",
    "import numpy as np\n",
    "import matplotlib.pyplot as plt\n",
    "import seaborn as sns\n",
    "from sklearn.preprocessing import MinMaxScaler, OneHotEncoder\n",
    "from typing import Tuple\n",
    "import optuna\n",
    "import re\n",
    "from pathlib import Path\n"
   ]
  },
  {
   "cell_type": "code",
   "execution_count": 162,
   "id": "6d98b00c",
   "metadata": {},
   "outputs": [],
   "source": [
    "sns.set_theme(style='whitegrid')\n",
    "device = torch.device('cuda' if torch.cuda.is_available() else 'cpu')"
   ]
  },
  {
   "cell_type": "markdown",
   "id": "14fba1c4",
   "metadata": {},
   "source": [
    "# Leitura e pré-processamento de dados."
   ]
  },
  {
   "cell_type": "code",
   "execution_count": 163,
   "id": "ae878700",
   "metadata": {},
   "outputs": [],
   "source": [
    "def read_csv_folder(input_path: Path) -> pd.DataFrame:\n",
    "    \"\"\"\n",
    "    Lê todos os arquivos CSV na pasta especificada e concatena em um único DataFrame.\n",
    "    \"\"\"\n",
    "    df_full = pd.DataFrame()\n",
    "    \n",
    "    if not input_path.exists():\n",
    "        raise FileNotFoundError(f\"O diretório {input_path} não existe.\")\n",
    "    \n",
    "    if not any(input_path.glob('*.csv')):\n",
    "        raise FileNotFoundError(f\"Nenhum arquivo CSV encontrado no diretório {input_path}.\")\n",
    "    for file in input_path.glob('*.csv'):\n",
    "        print(f\"Processando arquivo: {file.name}\")\n",
    "        city_regex = r'(\\w+)_\\d{4}.csv'\n",
    "        match = re.match(city_regex, file.name)\n",
    "        city_name = match.group(1) if match else 'Desconhecido'\n",
    "        print(f\"Nome da cidade: {city_name}\")\n",
    "        df = pd.read_csv(file, skiprows=2)\n",
    "        df['City'] = city_name\n",
    "        df_full = pd.concat([df_full, df], ignore_index=True)\n",
    "    return df_full\n"
   ]
  },
  {
   "cell_type": "code",
   "execution_count": 164,
   "id": "f644bf29",
   "metadata": {},
   "outputs": [
    {
     "name": "stdout",
     "output_type": "stream",
     "text": [
      "Processando arquivo: Natal_2020.csv\n",
      "Nome da cidade: Natal\n",
      "Processando arquivo: Natal_2021.csv\n",
      "Nome da cidade: Natal\n",
      "Processando arquivo: Natal_2022.csv\n",
      "Nome da cidade: Natal\n",
      "Processando arquivo: Natal_2023.csv\n",
      "Nome da cidade: Natal\n",
      "Processando arquivo: Natal_2024.csv\n",
      "Nome da cidade: Natal\n"
     ]
    }
   ],
   "source": [
    "df  = read_csv_folder(Path('data/'))"
   ]
  },
  {
   "cell_type": "code",
   "execution_count": 165,
   "id": "8cb94c27",
   "metadata": {},
   "outputs": [
    {
     "data": {
      "text/plain": [
       "array([2020, 2021, 2022, 2023, 2024])"
      ]
     },
     "execution_count": 165,
     "metadata": {},
     "output_type": "execute_result"
    }
   ],
   "source": [
    "df['Year'].unique()"
   ]
  },
  {
   "cell_type": "code",
   "execution_count": 166,
   "id": "0adb52ff",
   "metadata": {},
   "outputs": [],
   "source": [
    "def data_preprocessing(df: pd.DataFrame) -> pd.DataFrame:\n",
    "    df = df.drop(['Minute','Cloud Type', 'Ozone','Solar Zenith Angle', 'Surface Albedo',\n",
    "                    'Clearsky DHI', 'Clearsky DNI', 'Clearsky GHI', 'DHI', 'DNI', 'Fill Flag', 'Cloud Fill Flag', 'Aerosol Optical Depth','Alpha','SSA','Asymmetry'], axis = 1)\n",
    "    df = df.dropna()\n",
    "    # Combine year, month, day, hour into a single datetime column\n",
    "    df['Datetime'] = pd.to_datetime(df[['Year', 'Month', 'Day', 'Hour']])\n",
    "    # Extract useful time-based features\n",
    "    df['DayOfYear'] = df['Datetime'].dt.dayofyear\n",
    "    df['HourOfDay'] = df['Datetime'].dt.hour\n",
    "    df['Month'] = df['Datetime'].dt.month\n",
    "    # Optionally, drop original columns if not needed\n",
    "    df = df.drop(['Month', 'Day', 'Hour', 'Datetime'], axis=1)\n",
    "    return df"
   ]
  },
  {
   "cell_type": "code",
   "execution_count": 167,
   "id": "43bc9435",
   "metadata": {},
   "outputs": [],
   "source": [
    "def data_scaling_split(df: pd.DataFrame) -> Tuple[pd.DataFrame, pd.DataFrame, pd.DataFrame]:\n",
    "    one_hot_encoder = OneHotEncoder(sparse_output=False)\n",
    "    # Codificar a coluna 'City' usando One-Hot Encoding\n",
    "    city_encoded = one_hot_encoder.fit_transform(df[['City']])\n",
    "    city_encoded_df = pd.DataFrame(city_encoded, columns=one_hot_encoder.get_feature_names_out(['City']), index=df.index)\n",
    "    # Concatenar as colunas codificadas com o restante do DataFrame (exceto 'City')\n",
    "    df_no_city = df.drop(['City'], axis=1)\n",
    "    df_all = pd.concat([df_no_city, city_encoded_df], axis=1)\n",
    "    scaler = MinMaxScaler()\n",
    "    df_all['DayOfYear'] = np.sin(df_all['DayOfYear'] * (2 * np.pi / 365))  # Normalização do dia do ano\n",
    "    df_all['HourOfDay'] = np.sin(df_all['HourOfDay'] * (2 * np.pi / 24))  # Normalização da hora do dia\n",
    "    columns_to_scale = [col for col in df_all.columns if col not in ['Year', 'DayOfYear', 'HourOfDay']]\n",
    "    df_all[columns_to_scale] = scaler.fit_transform(df_all[columns_to_scale])\n",
    "    # Uso dos dados até 2023 para treino e 2024 para teste.\n",
    "    df_train = df_all[df_all['Year'] <= 2022]\n",
    "    df_test = df_all[df_all['Year'] >= 2023]\n",
    "    #Remove a coluna 'Year' dos dataframes.\n",
    "    df_train = df_train.drop(['Year'], axis=1)\n",
    "    df_test = df_test.drop(['Year'], axis=1)\n",
    "    # Reset index for all dataframes\n",
    "    df_train.reset_index(drop=True, inplace=True)\n",
    "    df_test.reset_index(drop=True, inplace=True)\n",
    "    return df_train, df_test"
   ]
  },
  {
   "cell_type": "code",
   "execution_count": 168,
   "id": "4b765042",
   "metadata": {},
   "outputs": [
    {
     "data": {
      "text/html": [
       "<div>\n",
       "<style scoped>\n",
       "    .dataframe tbody tr th:only-of-type {\n",
       "        vertical-align: middle;\n",
       "    }\n",
       "\n",
       "    .dataframe tbody tr th {\n",
       "        vertical-align: top;\n",
       "    }\n",
       "\n",
       "    .dataframe thead th {\n",
       "        text-align: right;\n",
       "    }\n",
       "</style>\n",
       "<table border=\"1\" class=\"dataframe\">\n",
       "  <thead>\n",
       "    <tr style=\"text-align: right;\">\n",
       "      <th></th>\n",
       "      <th>Year</th>\n",
       "      <th>Temperature</th>\n",
       "      <th>Dew Point</th>\n",
       "      <th>GHI</th>\n",
       "      <th>Relative Humidity</th>\n",
       "      <th>Pressure</th>\n",
       "      <th>Precipitable Water</th>\n",
       "      <th>Wind Direction</th>\n",
       "      <th>Wind Speed</th>\n",
       "      <th>City</th>\n",
       "      <th>DayOfYear</th>\n",
       "      <th>HourOfDay</th>\n",
       "    </tr>\n",
       "  </thead>\n",
       "  <tbody>\n",
       "    <tr>\n",
       "      <th>87590</th>\n",
       "      <td>2024</td>\n",
       "      <td>29.3</td>\n",
       "      <td>23.8</td>\n",
       "      <td>309</td>\n",
       "      <td>72.23</td>\n",
       "      <td>1007</td>\n",
       "      <td>4.2</td>\n",
       "      <td>116</td>\n",
       "      <td>0.0</td>\n",
       "      <td>Natal</td>\n",
       "      <td>366</td>\n",
       "      <td>19</td>\n",
       "    </tr>\n",
       "    <tr>\n",
       "      <th>87591</th>\n",
       "      <td>2024</td>\n",
       "      <td>28.8</td>\n",
       "      <td>23.8</td>\n",
       "      <td>190</td>\n",
       "      <td>74.41</td>\n",
       "      <td>1008</td>\n",
       "      <td>4.2</td>\n",
       "      <td>116</td>\n",
       "      <td>0.0</td>\n",
       "      <td>Natal</td>\n",
       "      <td>366</td>\n",
       "      <td>19</td>\n",
       "    </tr>\n",
       "    <tr>\n",
       "      <th>87592</th>\n",
       "      <td>2024</td>\n",
       "      <td>28.4</td>\n",
       "      <td>24.0</td>\n",
       "      <td>82</td>\n",
       "      <td>77.28</td>\n",
       "      <td>1008</td>\n",
       "      <td>4.2</td>\n",
       "      <td>115</td>\n",
       "      <td>0.0</td>\n",
       "      <td>Natal</td>\n",
       "      <td>366</td>\n",
       "      <td>20</td>\n",
       "    </tr>\n",
       "    <tr>\n",
       "      <th>87593</th>\n",
       "      <td>2024</td>\n",
       "      <td>28.2</td>\n",
       "      <td>24.1</td>\n",
       "      <td>8</td>\n",
       "      <td>78.25</td>\n",
       "      <td>1009</td>\n",
       "      <td>4.2</td>\n",
       "      <td>115</td>\n",
       "      <td>0.0</td>\n",
       "      <td>Natal</td>\n",
       "      <td>366</td>\n",
       "      <td>20</td>\n",
       "    </tr>\n",
       "    <tr>\n",
       "      <th>87594</th>\n",
       "      <td>2024</td>\n",
       "      <td>28.0</td>\n",
       "      <td>24.3</td>\n",
       "      <td>0</td>\n",
       "      <td>80.35</td>\n",
       "      <td>1009</td>\n",
       "      <td>4.3</td>\n",
       "      <td>115</td>\n",
       "      <td>0.0</td>\n",
       "      <td>Natal</td>\n",
       "      <td>366</td>\n",
       "      <td>21</td>\n",
       "    </tr>\n",
       "    <tr>\n",
       "      <th>87595</th>\n",
       "      <td>2024</td>\n",
       "      <td>27.8</td>\n",
       "      <td>24.3</td>\n",
       "      <td>0</td>\n",
       "      <td>81.28</td>\n",
       "      <td>1009</td>\n",
       "      <td>4.3</td>\n",
       "      <td>115</td>\n",
       "      <td>0.0</td>\n",
       "      <td>Natal</td>\n",
       "      <td>366</td>\n",
       "      <td>21</td>\n",
       "    </tr>\n",
       "    <tr>\n",
       "      <th>87596</th>\n",
       "      <td>2024</td>\n",
       "      <td>27.7</td>\n",
       "      <td>24.5</td>\n",
       "      <td>0</td>\n",
       "      <td>82.56</td>\n",
       "      <td>1010</td>\n",
       "      <td>4.3</td>\n",
       "      <td>115</td>\n",
       "      <td>0.0</td>\n",
       "      <td>Natal</td>\n",
       "      <td>366</td>\n",
       "      <td>22</td>\n",
       "    </tr>\n",
       "    <tr>\n",
       "      <th>87597</th>\n",
       "      <td>2024</td>\n",
       "      <td>27.7</td>\n",
       "      <td>24.5</td>\n",
       "      <td>0</td>\n",
       "      <td>82.56</td>\n",
       "      <td>1010</td>\n",
       "      <td>4.4</td>\n",
       "      <td>115</td>\n",
       "      <td>0.0</td>\n",
       "      <td>Natal</td>\n",
       "      <td>366</td>\n",
       "      <td>22</td>\n",
       "    </tr>\n",
       "    <tr>\n",
       "      <th>87598</th>\n",
       "      <td>2024</td>\n",
       "      <td>27.6</td>\n",
       "      <td>24.5</td>\n",
       "      <td>0</td>\n",
       "      <td>83.49</td>\n",
       "      <td>1010</td>\n",
       "      <td>4.4</td>\n",
       "      <td>115</td>\n",
       "      <td>0.0</td>\n",
       "      <td>Natal</td>\n",
       "      <td>366</td>\n",
       "      <td>23</td>\n",
       "    </tr>\n",
       "    <tr>\n",
       "      <th>87599</th>\n",
       "      <td>2024</td>\n",
       "      <td>27.6</td>\n",
       "      <td>24.5</td>\n",
       "      <td>0</td>\n",
       "      <td>83.49</td>\n",
       "      <td>1010</td>\n",
       "      <td>4.4</td>\n",
       "      <td>115</td>\n",
       "      <td>0.0</td>\n",
       "      <td>Natal</td>\n",
       "      <td>366</td>\n",
       "      <td>23</td>\n",
       "    </tr>\n",
       "  </tbody>\n",
       "</table>\n",
       "</div>"
      ],
      "text/plain": [
       "       Year  Temperature  Dew Point  GHI  Relative Humidity  Pressure  \\\n",
       "87590  2024         29.3       23.8  309              72.23      1007   \n",
       "87591  2024         28.8       23.8  190              74.41      1008   \n",
       "87592  2024         28.4       24.0   82              77.28      1008   \n",
       "87593  2024         28.2       24.1    8              78.25      1009   \n",
       "87594  2024         28.0       24.3    0              80.35      1009   \n",
       "87595  2024         27.8       24.3    0              81.28      1009   \n",
       "87596  2024         27.7       24.5    0              82.56      1010   \n",
       "87597  2024         27.7       24.5    0              82.56      1010   \n",
       "87598  2024         27.6       24.5    0              83.49      1010   \n",
       "87599  2024         27.6       24.5    0              83.49      1010   \n",
       "\n",
       "       Precipitable Water  Wind Direction  Wind Speed   City  DayOfYear  \\\n",
       "87590                 4.2             116         0.0  Natal        366   \n",
       "87591                 4.2             116         0.0  Natal        366   \n",
       "87592                 4.2             115         0.0  Natal        366   \n",
       "87593                 4.2             115         0.0  Natal        366   \n",
       "87594                 4.3             115         0.0  Natal        366   \n",
       "87595                 4.3             115         0.0  Natal        366   \n",
       "87596                 4.3             115         0.0  Natal        366   \n",
       "87597                 4.4             115         0.0  Natal        366   \n",
       "87598                 4.4             115         0.0  Natal        366   \n",
       "87599                 4.4             115         0.0  Natal        366   \n",
       "\n",
       "       HourOfDay  \n",
       "87590         19  \n",
       "87591         19  \n",
       "87592         20  \n",
       "87593         20  \n",
       "87594         21  \n",
       "87595         21  \n",
       "87596         22  \n",
       "87597         22  \n",
       "87598         23  \n",
       "87599         23  "
      ]
     },
     "execution_count": 168,
     "metadata": {},
     "output_type": "execute_result"
    }
   ],
   "source": [
    "df = data_preprocessing(df)\n",
    "df.tail(10)"
   ]
  },
  {
   "cell_type": "code",
   "execution_count": 169,
   "id": "7ef3e227",
   "metadata": {},
   "outputs": [
    {
     "data": {
      "image/png": "[encoded data removed]",
      "text/plain": [
       "<Figure size 1600x900 with 1 Axes>"
      ]
     },
     "metadata": {},
     "output_type": "display_data"
    }
   ],
   "source": [
    "# Plota a coluna 'GHI' para o ano de 2020\n",
    "plt.figure(figsize=(16, 9))\n",
    "sns.lineplot(data=df[df['Year'] == 2020].reset_index(), x='index', y='GHI')\n",
    "plt.title('GHI em 2020 para a cidade de Natal')\n",
    "plt.xlabel('Índice')\n",
    "plt.ylabel('GHI(w/m²)')\n",
    "plt.savefig('GHI_2020_Natal.png', dpi=300, bbox_inches='tight')\n",
    "plt.show()\n"
   ]
  },
  {
   "cell_type": "code",
   "execution_count": 170,
   "id": "8595344e",
   "metadata": {},
   "outputs": [
    {
     "data": {
      "image/png": "[encoded data removed]",
      "text/plain": [
       "<Figure size 1600x900 with 1 Axes>"
      ]
     },
     "metadata": {},
     "output_type": "display_data"
    }
   ],
   "source": [
    "plt.figure(figsize=(16, 9))\n",
    "sns.lineplot(data=df[df['Year'] == 2020].reset_index(), x='index', y='GHI')\n",
    "plt.title('GHI nos 10 primeiros dias de 2020 para a cidade de Natal')\n",
    "plt.xlabel('Índice')\n",
    "plt.ylabel('GHI(w/m²)')\n",
    "plt.xlim(0, 48*10)  # Limita o eixo x para mostrar apenas 10 dias\n",
    "plt.savefig('GHI_10_dias_Natal.png', dpi=300, bbox_inches='tight')\n",
    "plt.show()\n"
   ]
  },
  {
   "cell_type": "code",
   "execution_count": 171,
   "id": "7ea945cc",
   "metadata": {},
   "outputs": [],
   "source": [
    "df_train, df_test = data_scaling_split(df)\n"
   ]
  },
  {
   "cell_type": "code",
   "execution_count": 172,
   "id": "771b6c87",
   "metadata": {},
   "outputs": [
    {
     "data": {
      "text/html": [
       "<div>\n",
       "<style scoped>\n",
       "    .dataframe tbody tr th:only-of-type {\n",
       "        vertical-align: middle;\n",
       "    }\n",
       "\n",
       "    .dataframe tbody tr th {\n",
       "        vertical-align: top;\n",
       "    }\n",
       "\n",
       "    .dataframe thead th {\n",
       "        text-align: right;\n",
       "    }\n",
       "</style>\n",
       "<table border=\"1\" class=\"dataframe\">\n",
       "  <thead>\n",
       "    <tr style=\"text-align: right;\">\n",
       "      <th></th>\n",
       "      <th>Temperature</th>\n",
       "      <th>Dew Point</th>\n",
       "      <th>GHI</th>\n",
       "      <th>Relative Humidity</th>\n",
       "      <th>Pressure</th>\n",
       "      <th>Precipitable Water</th>\n",
       "      <th>Wind Direction</th>\n",
       "      <th>Wind Speed</th>\n",
       "      <th>DayOfYear</th>\n",
       "      <th>HourOfDay</th>\n",
       "      <th>City_Natal</th>\n",
       "    </tr>\n",
       "  </thead>\n",
       "  <tbody>\n",
       "    <tr>\n",
       "      <th>0</th>\n",
       "      <td>0.411111</td>\n",
       "      <td>0.578313</td>\n",
       "      <td>0.0</td>\n",
       "      <td>0.734657</td>\n",
       "      <td>0.600000</td>\n",
       "      <td>0.377358</td>\n",
       "      <td>0.341667</td>\n",
       "      <td>0.588889</td>\n",
       "      <td>0.017213</td>\n",
       "      <td>0.000000</td>\n",
       "      <td>0.0</td>\n",
       "    </tr>\n",
       "    <tr>\n",
       "      <th>1</th>\n",
       "      <td>0.411111</td>\n",
       "      <td>0.578313</td>\n",
       "      <td>0.0</td>\n",
       "      <td>0.734657</td>\n",
       "      <td>0.600000</td>\n",
       "      <td>0.377358</td>\n",
       "      <td>0.338889</td>\n",
       "      <td>0.577778</td>\n",
       "      <td>0.017213</td>\n",
       "      <td>0.000000</td>\n",
       "      <td>0.0</td>\n",
       "    </tr>\n",
       "    <tr>\n",
       "      <th>2</th>\n",
       "      <td>0.400000</td>\n",
       "      <td>0.578313</td>\n",
       "      <td>0.0</td>\n",
       "      <td>0.742468</td>\n",
       "      <td>0.533333</td>\n",
       "      <td>0.377358</td>\n",
       "      <td>0.336111</td>\n",
       "      <td>0.577778</td>\n",
       "      <td>0.017213</td>\n",
       "      <td>0.258819</td>\n",
       "      <td>0.0</td>\n",
       "    </tr>\n",
       "    <tr>\n",
       "      <th>3</th>\n",
       "      <td>0.388889</td>\n",
       "      <td>0.578313</td>\n",
       "      <td>0.0</td>\n",
       "      <td>0.753850</td>\n",
       "      <td>0.533333</td>\n",
       "      <td>0.377358</td>\n",
       "      <td>0.330556</td>\n",
       "      <td>0.555556</td>\n",
       "      <td>0.017213</td>\n",
       "      <td>0.258819</td>\n",
       "      <td>0.0</td>\n",
       "    </tr>\n",
       "    <tr>\n",
       "      <th>4</th>\n",
       "      <td>0.388889</td>\n",
       "      <td>0.578313</td>\n",
       "      <td>0.0</td>\n",
       "      <td>0.752957</td>\n",
       "      <td>0.533333</td>\n",
       "      <td>0.377358</td>\n",
       "      <td>0.327778</td>\n",
       "      <td>0.544444</td>\n",
       "      <td>0.017213</td>\n",
       "      <td>0.500000</td>\n",
       "      <td>0.0</td>\n",
       "    </tr>\n",
       "    <tr>\n",
       "      <th>...</th>\n",
       "      <td>...</td>\n",
       "      <td>...</td>\n",
       "      <td>...</td>\n",
       "      <td>...</td>\n",
       "      <td>...</td>\n",
       "      <td>...</td>\n",
       "      <td>...</td>\n",
       "      <td>...</td>\n",
       "      <td>...</td>\n",
       "      <td>...</td>\n",
       "      <td>...</td>\n",
       "    </tr>\n",
       "    <tr>\n",
       "      <th>35035</th>\n",
       "      <td>0.555556</td>\n",
       "      <td>0.638554</td>\n",
       "      <td>0.0</td>\n",
       "      <td>0.644276</td>\n",
       "      <td>0.400000</td>\n",
       "      <td>0.452830</td>\n",
       "      <td>0.319444</td>\n",
       "      <td>0.000000</td>\n",
       "      <td>0.017213</td>\n",
       "      <td>-0.707107</td>\n",
       "      <td>0.0</td>\n",
       "    </tr>\n",
       "    <tr>\n",
       "      <th>35036</th>\n",
       "      <td>0.544444</td>\n",
       "      <td>0.662651</td>\n",
       "      <td>0.0</td>\n",
       "      <td>0.672841</td>\n",
       "      <td>0.466667</td>\n",
       "      <td>0.452830</td>\n",
       "      <td>0.319444</td>\n",
       "      <td>0.000000</td>\n",
       "      <td>0.017213</td>\n",
       "      <td>-0.500000</td>\n",
       "      <td>0.0</td>\n",
       "    </tr>\n",
       "    <tr>\n",
       "      <th>35037</th>\n",
       "      <td>0.544444</td>\n",
       "      <td>0.662651</td>\n",
       "      <td>0.0</td>\n",
       "      <td>0.672841</td>\n",
       "      <td>0.466667</td>\n",
       "      <td>0.471698</td>\n",
       "      <td>0.319444</td>\n",
       "      <td>0.000000</td>\n",
       "      <td>0.017213</td>\n",
       "      <td>-0.500000</td>\n",
       "      <td>0.0</td>\n",
       "    </tr>\n",
       "    <tr>\n",
       "      <th>35038</th>\n",
       "      <td>0.533333</td>\n",
       "      <td>0.662651</td>\n",
       "      <td>0.0</td>\n",
       "      <td>0.693595</td>\n",
       "      <td>0.466667</td>\n",
       "      <td>0.471698</td>\n",
       "      <td>0.319444</td>\n",
       "      <td>0.000000</td>\n",
       "      <td>0.017213</td>\n",
       "      <td>-0.258819</td>\n",
       "      <td>0.0</td>\n",
       "    </tr>\n",
       "    <tr>\n",
       "      <th>35039</th>\n",
       "      <td>0.533333</td>\n",
       "      <td>0.662651</td>\n",
       "      <td>0.0</td>\n",
       "      <td>0.693595</td>\n",
       "      <td>0.466667</td>\n",
       "      <td>0.471698</td>\n",
       "      <td>0.319444</td>\n",
       "      <td>0.000000</td>\n",
       "      <td>0.017213</td>\n",
       "      <td>-0.258819</td>\n",
       "      <td>0.0</td>\n",
       "    </tr>\n",
       "  </tbody>\n",
       "</table>\n",
       "<p>35040 rows × 11 columns</p>\n",
       "</div>"
      ],
      "text/plain": [
       "       Temperature  Dew Point  GHI  Relative Humidity  Pressure  \\\n",
       "0         0.411111   0.578313  0.0           0.734657  0.600000   \n",
       "1         0.411111   0.578313  0.0           0.734657  0.600000   \n",
       "2         0.400000   0.578313  0.0           0.742468  0.533333   \n",
       "3         0.388889   0.578313  0.0           0.753850  0.533333   \n",
       "4         0.388889   0.578313  0.0           0.752957  0.533333   \n",
       "...            ...        ...  ...                ...       ...   \n",
       "35035     0.555556   0.638554  0.0           0.644276  0.400000   \n",
       "35036     0.544444   0.662651  0.0           0.672841  0.466667   \n",
       "35037     0.544444   0.662651  0.0           0.672841  0.466667   \n",
       "35038     0.533333   0.662651  0.0           0.693595  0.466667   \n",
       "35039     0.533333   0.662651  0.0           0.693595  0.466667   \n",
       "\n",
       "       Precipitable Water  Wind Direction  Wind Speed  DayOfYear  HourOfDay  \\\n",
       "0                0.377358        0.341667    0.588889   0.017213   0.000000   \n",
       "1                0.377358        0.338889    0.577778   0.017213   0.000000   \n",
       "2                0.377358        0.336111    0.577778   0.017213   0.258819   \n",
       "3                0.377358        0.330556    0.555556   0.017213   0.258819   \n",
       "4                0.377358        0.327778    0.544444   0.017213   0.500000   \n",
       "...                   ...             ...         ...        ...        ...   \n",
       "35035            0.452830        0.319444    0.000000   0.017213  -0.707107   \n",
       "35036            0.452830        0.319444    0.000000   0.017213  -0.500000   \n",
       "35037            0.471698        0.319444    0.000000   0.017213  -0.500000   \n",
       "35038            0.471698        0.319444    0.000000   0.017213  -0.258819   \n",
       "35039            0.471698        0.319444    0.000000   0.017213  -0.258819   \n",
       "\n",
       "       City_Natal  \n",
       "0             0.0  \n",
       "1             0.0  \n",
       "2             0.0  \n",
       "3             0.0  \n",
       "4             0.0  \n",
       "...           ...  \n",
       "35035         0.0  \n",
       "35036         0.0  \n",
       "35037         0.0  \n",
       "35038         0.0  \n",
       "35039         0.0  \n",
       "\n",
       "[35040 rows x 11 columns]"
      ]
     },
     "execution_count": 172,
     "metadata": {},
     "output_type": "execute_result"
    }
   ],
   "source": [
    "df_test"
   ]
  },
  {
   "cell_type": "markdown",
   "id": "06322a81",
   "metadata": {},
   "source": [
    "# Definição dos modelos."
   ]
  },
  {
   "cell_type": "code",
   "execution_count": 173,
   "id": "2398ddfa",
   "metadata": {},
   "outputs": [],
   "source": [
    "class SimpleGRU(nn.Module):\n",
    "    def __init__(self, input_size, hidden_size, output_size, num_layers=1):\n",
    "        super(SimpleGRU, self).__init__()\n",
    "        \n",
    "        self.hidden_size = hidden_size\n",
    "        self.num_layers = num_layers\n",
    "        \n",
    "        # Camada GRU\n",
    "        self.gru = nn.GRU(input_size, hidden_size, num_layers, batch_first=True)\n",
    "        \n",
    "        # Camada de saída\n",
    "        self.fc = nn.Linear(hidden_size, output_size)\n",
    "        \n",
    "    def forward(self, x, hidden=None):\n",
    "        # Se hidden não for fornecido, inicializa com zeros\n",
    "        if hidden is None:\n",
    "            hidden = self.init_hidden(x.size(0))\n",
    "        \n",
    "        # Passa pela GRU\n",
    "        out, hidden = self.gru(x, hidden)\n",
    "        \n",
    "        # Aplica a camada linear apenas na última saída temporal\n",
    "        out = self.fc(out[:, -1, :])  # Pega apenas o último timestep\n",
    "        \n",
    "        return out\n",
    "    \n",
    "    def init_hidden(self, batch_size):\n",
    "        # Inicializa o estado oculto com zeros\n",
    "        return torch.zeros(self.num_layers, batch_size, self.hidden_size)"
   ]
  },
  {
   "cell_type": "code",
   "execution_count": 174,
   "id": "4b284dd1",
   "metadata": {},
   "outputs": [],
   "source": [
    "# Implementação de um LSTM simples\n",
    "class SimpleLSTM(nn.Module):\n",
    "    def __init__(self, input_size, hidden_size, output_size, num_layers=1):\n",
    "        super(SimpleLSTM, self).__init__()\n",
    "        self.hidden_size = hidden_size\n",
    "        self.num_layers = num_layers\n",
    "\n",
    "        self.lstm = nn.LSTM(input_size, hidden_size, num_layers, batch_first=True)\n",
    "        self.fc = nn.Linear(hidden_size, output_size)\n",
    "\n",
    "    def forward(self, x, hidden=None):\n",
    "        if hidden is None:\n",
    "            h_0 = torch.zeros(self.num_layers, x.size(0), self.hidden_size, device=x.device)\n",
    "            c_0 = torch.zeros(self.num_layers, x.size(0), self.hidden_size, device=x.device)\n",
    "        else:\n",
    "            h_0, c_0 = hidden\n",
    "\n",
    "        out, (h_n, c_n) = self.lstm(x, (h_0, c_0))\n",
    "        out = self.fc(out[:, -1, :])\n",
    "        return out"
   ]
  },
  {
   "cell_type": "code",
   "execution_count": 175,
   "id": "b2a46c4a",
   "metadata": {},
   "outputs": [],
   "source": [
    "class SimpleMLP(nn.Module):\n",
    "    def __init__(self, input_size, hidden_size, output_size, num_layers=2):\n",
    "        super(SimpleMLP, self).__init__()\n",
    "        layers = []\n",
    "        layers.append(nn.Linear(input_size, hidden_size))\n",
    "        layers.append(nn.ReLU())\n",
    "        for _ in range(num_layers - 1):\n",
    "            layers.append(nn.Linear(hidden_size, hidden_size))\n",
    "            layers.append(nn.ReLU())\n",
    "        layers.append(nn.Linear(hidden_size, output_size))\n",
    "        self.net = nn.Sequential(*layers)\n",
    "\n",
    "    def forward(self, x):\n",
    "        return self.net(x)"
   ]
  },
  {
   "cell_type": "code",
   "execution_count": 176,
   "id": "35e589e4",
   "metadata": {},
   "outputs": [],
   "source": [
    "class RMSELoss(nn.Module):\n",
    "    def __init__(self):\n",
    "        super(RMSELoss, self).__init__()\n",
    "    \n",
    "    def forward(self, y_pred, y_true):\n",
    "        return torch.sqrt(torch.mean((y_pred - y_true) ** 2))"
   ]
  },
  {
   "cell_type": "markdown",
   "id": "2ad3c3ea",
   "metadata": {},
   "source": [
    "# Função para treinamento do modelo."
   ]
  },
  {
   "cell_type": "code",
   "execution_count": 177,
   "id": "e850da1f",
   "metadata": {},
   "outputs": [],
   "source": [
    "def train_model(model, train_loader, test_loader, epochs, lr, patience=15, weight_decay=1e-5):\n",
    "    device = torch.device('cuda' if torch.cuda.is_available() else 'cpu')\n",
    "    criterion = RMSELoss()\n",
    "    optimizer = optim.Adam(model.parameters(), lr=lr, weight_decay=weight_decay)\n",
    "    scheduler = optim.lr_scheduler.ReduceLROnPlateau(optimizer, 'min', patience=7, factor=0.5)\n",
    "\n",
    "    best_test_loss = float('inf')\n",
    "    patience_counter = 0\n",
    "    train_losses = []\n",
    "    test_losses = []\n",
    "    best_model_state = None\n",
    "\n",
    "    for epoch in range(epochs):\n",
    "        # Treino\n",
    "        model.train()\n",
    "        train_loss = 0\n",
    "        for X_batch, y_batch in train_loader:\n",
    "            X_batch, y_batch = X_batch.to(device), y_batch.to(device)\n",
    "            optimizer.zero_grad()\n",
    "            outputs = model(X_batch).squeeze(-1)\n",
    "            loss = criterion(outputs.squeeze(), y_batch)\n",
    "            loss.backward()\n",
    "            torch.nn.utils.clip_grad_norm_(model.parameters(), max_norm=1.0)\n",
    "            optimizer.step()\n",
    "            train_loss += loss.item()\n",
    "\n",
    "        # Teste\n",
    "        model.eval()\n",
    "        test_loss = 0\n",
    "        with torch.no_grad():\n",
    "            for X_batch, y_batch in test_loader:\n",
    "                X_batch, y_batch = X_batch.to(device), y_batch.to(device)\n",
    "                outputs = model(X_batch)\n",
    "                test_loss += criterion(outputs.squeeze(), y_batch).item()\n",
    "\n",
    "        train_loss /= len(train_loader)\n",
    "        test_loss /= len(test_loader)\n",
    "\n",
    "        train_losses.append(train_loss)\n",
    "        test_losses.append(test_loss)\n",
    "\n",
    "        scheduler.step(test_loss)\n",
    "\n",
    "        # Early stopping baseado no teste\n",
    "        if test_loss < best_test_loss:\n",
    "            best_test_loss = test_loss\n",
    "            patience_counter = 0\n",
    "            best_model_state = model.state_dict().copy()\n",
    "        else:\n",
    "            patience_counter += 1\n",
    "            if patience_counter >= patience:\n",
    "                print(f\"Early stopping na época {epoch+1}\")\n",
    "                break\n",
    "\n",
    "        if (epoch + 1) % 20 == 0:\n",
    "            print(f'Época {epoch+1}/{epochs}: Train Loss: {train_loss:.6f}, Test Loss: {test_loss:.6f}')\n",
    "\n",
    "    if best_model_state is not None:\n",
    "        model.load_state_dict(best_model_state)\n",
    "\n",
    "    return train_losses, test_losses, best_test_loss\n"
   ]
  },
  {
   "cell_type": "markdown",
   "id": "e8bed2ac",
   "metadata": {},
   "source": [
    "# Função para plotar as perdas."
   ]
  },
  {
   "cell_type": "code",
   "execution_count": 178,
   "id": "2b9a728d",
   "metadata": {},
   "outputs": [],
   "source": [
    "def plot_losses(train_losses, test_losses):\n",
    "    \"\"\"Plota as perdas de treino e teste \"\"\"\n",
    "    plt.figure(figsize=(12, 6))\n",
    "    plt.plot(train_losses, label='Train Loss', color='blue')\n",
    "    plt.plot(test_losses, label='Test Loss', color='green')\n",
    "    plt.title('Losses durante o treinamento')\n",
    "    plt.xlabel('Épocas')\n",
    "    plt.ylabel('Loss')\n",
    "    plt.legend()\n",
    "    plt.grid()\n",
    "    plt.show()"
   ]
  },
  {
   "cell_type": "code",
   "execution_count": 179,
   "id": "62ecf5e7",
   "metadata": {},
   "outputs": [],
   "source": [
    "#Convertendo os dados de treino, validação e teste para tensores PyTorch\n",
    "ghi_values_train = torch.tensor(df_train['GHI'].values, dtype=torch.float32).unsqueeze(-1)\n",
    "ghi_values_test = torch.tensor(df_test['GHI'].values, dtype=torch.float32).unsqueeze(-1)\n",
    "\n",
    "X_train = ghi_values_train[:-1].unsqueeze(1)  # shape: (N-1, 1, 1)\n",
    "y_train = ghi_values_train[1:].squeeze(-1)          # shape: (N-1, 1)\n",
    "X_test = ghi_values_test[:-1].unsqueeze(1)  # shape: (N-1, 1, 1)\n",
    "y_test = ghi_values_test[1:].squeeze(-1)          # shape: (N-1, 1)\n",
    "\n",
    "train_dataset = TensorDataset(X_train, y_train)\n",
    "train_loader = DataLoader(train_dataset, batch_size=32, shuffle=False)\n",
    "test_dataset = TensorDataset(X_test, y_test)\n",
    "test_loader = DataLoader(test_dataset, batch_size=32, shuffle=False)\n",
    "\n",
    "\n"
   ]
  },
  {
   "cell_type": "code",
   "execution_count": 180,
   "id": "476ef95b",
   "metadata": {},
   "outputs": [
    {
     "name": "stdout",
     "output_type": "stream",
     "text": [
      "Época 20/100: Train Loss: 0.077081, Test Loss: 0.079284\n",
      "Época 40/100: Train Loss: 0.076625, Test Loss: 0.079080\n",
      "Época 60/100: Train Loss: 0.076531, Test Loss: 0.079007\n",
      "Época 80/100: Train Loss: 0.076472, Test Loss: 0.078929\n",
      "Época 100/100: Train Loss: 0.076462, Test Loss: 0.078898\n"
     ]
    }
   ],
   "source": [
    "input_size = X_train.shape[-1]\n",
    "model = SimpleMLP(input_size=input_size, hidden_size=20, output_size=1, num_layers = 2).to(device)\n",
    "train_losses, test_losses, best_test_loss = train_model(\n",
    "    model=model,\n",
    "    train_loader=train_loader,\n",
    "    test_loader=test_loader,\n",
    "    epochs=100,\n",
    "    lr=0.01,\n",
    "    patience=15,\n",
    "    weight_decay=1e-5\n",
    ")"
   ]
  },
  {
   "cell_type": "markdown",
   "id": "3d3d179b",
   "metadata": {},
   "source": [
    "# Função para otimizar hiperparâmetros."
   ]
  },
  {
   "cell_type": "code",
   "execution_count": 181,
   "id": "da8238e4",
   "metadata": {},
   "outputs": [],
   "source": [
    "def objective(trial, input_size, output_size, train_loader, test_loader,model_function=SimpleGRU):\n",
    "    hidden_size = trial.suggest_int('hidden_size', 5, 30)\n",
    "    num_layers = trial.suggest_int('num_layers', 1, 2)\n",
    "\n",
    "    # Instantiate a new model with suggested hyperparameters\n",
    "    model = model_function(input_size=input_size, hidden_size=hidden_size, output_size=output_size, num_layers=num_layers).to(device)\n",
    "    train_losses, test_losses, best_test_loss = train_model(\n",
    "        model, train_loader, test_loader,\n",
    "        epochs=100,\n",
    "        lr=trial.suggest_loguniform('lr', 1e-5, 1e-2),\n",
    "        weight_decay=trial.suggest_loguniform('weight_decay', 1e-6, 1e-2)\n",
    "    )\n",
    "\n",
    "    return best_test_loss\n",
    "\n",
    "def optimize_hyperparameters(train_loader, test_loader, input_size, output_size, n_trials=50, model_function=SimpleGRU):\n",
    "    study = optuna.create_study(direction='minimize')\n",
    "    study.optimize(lambda trial: objective(trial, input_size, output_size, train_loader, test_loader,model_function), n_trials=n_trials)\n",
    "\n",
    "    print(\"Best hyperparameters: \", study.best_params)\n",
    "    print(\"Best validation loss: \", study.best_value)\n",
    "\n",
    "    return study.best_params\n"
   ]
  },
  {
   "cell_type": "code",
   "execution_count": 182,
   "id": "c556942a",
   "metadata": {},
   "outputs": [
    {
     "name": "stderr",
     "output_type": "stream",
     "text": [
      "[I 2025-07-14 22:40:03,498] A new study created in memory with name: no-name-ee4fb8d2-f9fa-4a43-87d5-ebaced57c0b0\n",
      "C:\\Users\\Ric\\AppData\\Local\\Temp\\ipykernel_11832\\2613755724.py:10: FutureWarning: suggest_loguniform has been deprecated in v3.0.0. This feature will be removed in v6.0.0. See https://github.com/optuna/optuna/releases/tag/v3.0.0. Use suggest_float(..., log=True) instead.\n",
      "  lr=trial.suggest_loguniform('lr', 1e-5, 1e-2),\n",
      "C:\\Users\\Ric\\AppData\\Local\\Temp\\ipykernel_11832\\2613755724.py:11: FutureWarning: suggest_loguniform has been deprecated in v3.0.0. This feature will be removed in v6.0.0. See https://github.com/optuna/optuna/releases/tag/v3.0.0. Use suggest_float(..., log=True) instead.\n",
      "  weight_decay=trial.suggest_loguniform('weight_decay', 1e-6, 1e-2)\n",
      "[I 2025-07-14 22:40:36,256] Trial 0 finished with value: 0.07934694894202496 and parameters: {'hidden_size': 10, 'num_layers': 1, 'lr': 0.0021134016435657545, 'weight_decay': 0.002038177214388111}. Best is trial 0 with value: 0.07934694894202496.\n"
     ]
    },
    {
     "name": "stdout",
     "output_type": "stream",
     "text": [
      "Early stopping na época 19\n",
      "Época 20/100: Train Loss: 0.077324, Test Loss: 0.079223\n"
     ]
    },
    {
     "name": "stderr",
     "output_type": "stream",
     "text": [
      "[I 2025-07-14 22:41:59,451] Trial 1 finished with value: 0.0792223902104516 and parameters: {'hidden_size': 23, 'num_layers': 2, 'lr': 0.009267380920476338, 'weight_decay': 1.230344584485633e-05}. Best is trial 1 with value: 0.0792223902104516.\n"
     ]
    },
    {
     "name": "stdout",
     "output_type": "stream",
     "text": [
      "Early stopping na época 34\n",
      "Época 20/100: Train Loss: 0.077224, Test Loss: 0.079617\n",
      "Época 40/100: Train Loss: 0.076901, Test Loss: 0.079333\n",
      "Época 60/100: Train Loss: 0.076882, Test Loss: 0.079313\n",
      "Época 80/100: Train Loss: 0.076874, Test Loss: 0.079296\n"
     ]
    },
    {
     "name": "stderr",
     "output_type": "stream",
     "text": [
      "[I 2025-07-14 22:44:49,056] Trial 2 finished with value: 0.07929446272739128 and parameters: {'hidden_size': 11, 'num_layers': 1, 'lr': 3.537295005592163e-05, 'weight_decay': 0.0006122799015483259}. Best is trial 1 with value: 0.0792223902104516.\n"
     ]
    },
    {
     "name": "stdout",
     "output_type": "stream",
     "text": [
      "Época 100/100: Train Loss: 0.076873, Test Loss: 0.079294\n"
     ]
    },
    {
     "name": "stderr",
     "output_type": "stream",
     "text": [
      "[I 2025-07-14 22:45:36,476] Trial 3 finished with value: 0.07930050407319444 and parameters: {'hidden_size': 12, 'num_layers': 2, 'lr': 0.002245953766297876, 'weight_decay': 0.0011713072896767447}. Best is trial 1 with value: 0.0792223902104516.\n"
     ]
    },
    {
     "name": "stdout",
     "output_type": "stream",
     "text": [
      "Early stopping na época 17\n",
      "Época 20/100: Train Loss: 0.076964, Test Loss: 0.079444\n",
      "Época 40/100: Train Loss: 0.076846, Test Loss: 0.079271\n",
      "Época 60/100: Train Loss: 0.076798, Test Loss: 0.079217\n",
      "Época 80/100: Train Loss: 0.076785, Test Loss: 0.079180\n"
     ]
    },
    {
     "name": "stderr",
     "output_type": "stream",
     "text": [
      "[I 2025-07-14 22:50:26,632] Trial 4 finished with value: 0.0791674547475767 and parameters: {'hidden_size': 16, 'num_layers': 2, 'lr': 7.442161199946467e-05, 'weight_decay': 2.0090053798649562e-05}. Best is trial 4 with value: 0.0791674547475767.\n"
     ]
    },
    {
     "name": "stdout",
     "output_type": "stream",
     "text": [
      "Época 100/100: Train Loss: 0.076778, Test Loss: 0.079167\n",
      "Época 20/100: Train Loss: 0.076898, Test Loss: 0.079331\n",
      "Época 40/100: Train Loss: 0.076827, Test Loss: 0.079243\n",
      "Época 60/100: Train Loss: 0.076820, Test Loss: 0.079227\n",
      "Época 80/100: Train Loss: 0.076819, Test Loss: 0.079224\n"
     ]
    },
    {
     "name": "stderr",
     "output_type": "stream",
     "text": [
      "[I 2025-07-14 22:53:32,306] Trial 5 finished with value: 0.07922395914027544 and parameters: {'hidden_size': 19, 'num_layers': 1, 'lr': 1.5711784902075e-05, 'weight_decay': 1.4114920170445473e-06}. Best is trial 4 with value: 0.0791674547475767.\n"
     ]
    },
    {
     "name": "stdout",
     "output_type": "stream",
     "text": [
      "Época 100/100: Train Loss: 0.076818, Test Loss: 0.079224\n"
     ]
    },
    {
     "name": "stderr",
     "output_type": "stream",
     "text": [
      "[I 2025-07-14 22:54:14,642] Trial 6 finished with value: 0.07931103231257772 and parameters: {'hidden_size': 29, 'num_layers': 2, 'lr': 0.0013522051821009036, 'weight_decay': 0.0028972591206023247}. Best is trial 4 with value: 0.0791674547475767.\n"
     ]
    },
    {
     "name": "stdout",
     "output_type": "stream",
     "text": [
      "Early stopping na época 19\n",
      "Época 20/100: Train Loss: 0.076912, Test Loss: 0.079308\n"
     ]
    },
    {
     "name": "stderr",
     "output_type": "stream",
     "text": [
      "[I 2025-07-14 22:55:06,804] Trial 7 finished with value: 0.07930420835387625 and parameters: {'hidden_size': 29, 'num_layers': 1, 'lr': 0.0008931227631722556, 'weight_decay': 0.0005614066491551633}. Best is trial 4 with value: 0.0791674547475767.\n"
     ]
    },
    {
     "name": "stdout",
     "output_type": "stream",
     "text": [
      "Early stopping na época 32\n",
      "Época 20/100: Train Loss: 0.076968, Test Loss: 0.079315\n",
      "Época 40/100: Train Loss: 0.076851, Test Loss: 0.079312\n",
      "Época 60/100: Train Loss: 0.076830, Test Loss: 0.079284\n",
      "Época 80/100: Train Loss: 0.076821, Test Loss: 0.079259\n"
     ]
    },
    {
     "name": "stderr",
     "output_type": "stream",
     "text": [
      "[I 2025-07-14 22:57:49,036] Trial 8 finished with value: 0.0792571855351737 and parameters: {'hidden_size': 22, 'num_layers': 1, 'lr': 0.001923790390447123, 'weight_decay': 2.2863954776003408e-06}. Best is trial 4 with value: 0.0791674547475767.\n"
     ]
    },
    {
     "name": "stdout",
     "output_type": "stream",
     "text": [
      "Época 100/100: Train Loss: 0.076820, Test Loss: 0.079257\n",
      "Época 20/100: Train Loss: 0.076803, Test Loss: 0.079253\n",
      "Época 40/100: Train Loss: 0.076785, Test Loss: 0.079229\n",
      "Época 60/100: Train Loss: 0.076777, Test Loss: 0.079181\n",
      "Época 80/100: Train Loss: 0.076771, Test Loss: 0.079168\n"
     ]
    },
    {
     "name": "stderr",
     "output_type": "stream",
     "text": [
      "[I 2025-07-14 23:01:39,442] Trial 9 finished with value: 0.07916726209053165 and parameters: {'hidden_size': 18, 'num_layers': 2, 'lr': 0.00015084550176372338, 'weight_decay': 2.106507989722818e-05}. Best is trial 9 with value: 0.07916726209053165.\n"
     ]
    },
    {
     "name": "stdout",
     "output_type": "stream",
     "text": [
      "Época 100/100: Train Loss: 0.076770, Test Loss: 0.079167\n",
      "Época 20/100: Train Loss: 0.076844, Test Loss: 0.079278\n",
      "Época 40/100: Train Loss: 0.076837, Test Loss: 0.079240\n",
      "Época 60/100: Train Loss: 0.076833, Test Loss: 0.079229\n",
      "Época 80/100: Train Loss: 0.076832, Test Loss: 0.079229\n"
     ]
    },
    {
     "name": "stderr",
     "output_type": "stream",
     "text": [
      "[I 2025-07-14 23:05:19,202] Trial 10 finished with value: 0.07922846360225656 and parameters: {'hidden_size': 5, 'num_layers': 2, 'lr': 0.000176379992495948, 'weight_decay': 8.388859596772491e-05}. Best is trial 9 with value: 0.07916726209053165.\n"
     ]
    },
    {
     "name": "stdout",
     "output_type": "stream",
     "text": [
      "Época 100/100: Train Loss: 0.076832, Test Loss: 0.079228\n",
      "Época 20/100: Train Loss: 0.076705, Test Loss: 0.079125\n",
      "Época 40/100: Train Loss: 0.076683, Test Loss: 0.079101\n",
      "Época 60/100: Train Loss: 0.076674, Test Loss: 0.079066\n",
      "Época 80/100: Train Loss: 0.076669, Test Loss: 0.079060\n"
     ]
    },
    {
     "name": "stderr",
     "output_type": "stream",
     "text": [
      "[I 2025-07-14 23:09:04,311] Trial 11 finished with value: 0.07905985451214118 and parameters: {'hidden_size': 16, 'num_layers': 2, 'lr': 9.53732587571571e-05, 'weight_decay': 4.6738485421988906e-05}. Best is trial 11 with value: 0.07905985451214118.\n"
     ]
    },
    {
     "name": "stdout",
     "output_type": "stream",
     "text": [
      "Época 100/100: Train Loss: 0.076669, Test Loss: 0.079060\n",
      "Época 20/100: Train Loss: 0.076934, Test Loss: 0.079332\n",
      "Época 40/100: Train Loss: 0.076876, Test Loss: 0.079248\n",
      "Época 60/100: Train Loss: 0.076826, Test Loss: 0.079230\n",
      "Época 80/100: Train Loss: 0.076814, Test Loss: 0.079194\n"
     ]
    },
    {
     "name": "stderr",
     "output_type": "stream",
     "text": [
      "[I 2025-07-14 23:12:55,905] Trial 12 finished with value: 0.07918804074939527 and parameters: {'hidden_size': 16, 'num_layers': 2, 'lr': 0.00019249880989582975, 'weight_decay': 7.343798877522605e-05}. Best is trial 11 with value: 0.07905985451214118.\n"
     ]
    },
    {
     "name": "stdout",
     "output_type": "stream",
     "text": [
      "Época 100/100: Train Loss: 0.076808, Test Loss: 0.079188\n",
      "Época 20/100: Train Loss: 0.076862, Test Loss: 0.079311\n",
      "Época 40/100: Train Loss: 0.076715, Test Loss: 0.079149\n",
      "Época 60/100: Train Loss: 0.076692, Test Loss: 0.079104\n",
      "Época 80/100: Train Loss: 0.076679, Test Loss: 0.079078\n"
     ]
    },
    {
     "name": "stderr",
     "output_type": "stream",
     "text": [
      "[I 2025-07-14 23:16:49,494] Trial 13 finished with value: 0.07907600574467552 and parameters: {'hidden_size': 21, 'num_layers': 2, 'lr': 6.8879349742157e-05, 'weight_decay': 1.4217453956255293e-05}. Best is trial 11 with value: 0.07905985451214118.\n"
     ]
    },
    {
     "name": "stdout",
     "output_type": "stream",
     "text": [
      "Época 100/100: Train Loss: 0.076677, Test Loss: 0.079076\n",
      "Época 20/100: Train Loss: 0.077761, Test Loss: 0.080258\n",
      "Época 40/100: Train Loss: 0.076957, Test Loss: 0.079402\n",
      "Época 60/100: Train Loss: 0.076916, Test Loss: 0.079346\n",
      "Época 80/100: Train Loss: 0.076888, Test Loss: 0.079310\n"
     ]
    },
    {
     "name": "stderr",
     "output_type": "stream",
     "text": [
      "[I 2025-07-14 23:20:44,565] Trial 14 finished with value: 0.07927932179358588 and parameters: {'hidden_size': 25, 'num_layers': 2, 'lr': 1.0545918778015677e-05, 'weight_decay': 5.419229176253143e-06}. Best is trial 11 with value: 0.07905985451214118.\n"
     ]
    },
    {
     "name": "stdout",
     "output_type": "stream",
     "text": [
      "Época 100/100: Train Loss: 0.076865, Test Loss: 0.079279\n",
      "Época 20/100: Train Loss: 0.076837, Test Loss: 0.079278\n",
      "Época 40/100: Train Loss: 0.076803, Test Loss: 0.079248\n",
      "Época 60/100: Train Loss: 0.076793, Test Loss: 0.079209\n",
      "Época 80/100: Train Loss: 0.076790, Test Loss: 0.079204\n"
     ]
    },
    {
     "name": "stderr",
     "output_type": "stream",
     "text": [
      "[I 2025-07-14 23:24:38,884] Trial 15 finished with value: 0.0792030062245792 and parameters: {'hidden_size': 21, 'num_layers': 2, 'lr': 4.390859275358564e-05, 'weight_decay': 0.00017278666325265066}. Best is trial 11 with value: 0.07905985451214118.\n"
     ]
    },
    {
     "name": "stdout",
     "output_type": "stream",
     "text": [
      "Época 100/100: Train Loss: 0.076789, Test Loss: 0.079203\n",
      "Época 20/100: Train Loss: 0.076891, Test Loss: 0.079325\n",
      "Época 40/100: Train Loss: 0.076861, Test Loss: 0.079285\n",
      "Época 60/100: Train Loss: 0.076855, Test Loss: 0.079262\n",
      "Época 80/100: Train Loss: 0.076853, Test Loss: 0.079260\n"
     ]
    },
    {
     "name": "stderr",
     "output_type": "stream",
     "text": [
      "[I 2025-07-14 23:28:18,800] Trial 16 finished with value: 0.0792596039536609 and parameters: {'hidden_size': 14, 'num_layers': 2, 'lr': 0.0004416755390191467, 'weight_decay': 4.6444854257507185e-05}. Best is trial 11 with value: 0.07905985451214118.\n"
     ]
    },
    {
     "name": "stdout",
     "output_type": "stream",
     "text": [
      "Época 100/100: Train Loss: 0.076852, Test Loss: 0.079260\n",
      "Época 20/100: Train Loss: 0.076830, Test Loss: 0.079297\n",
      "Época 40/100: Train Loss: 0.076789, Test Loss: 0.079226\n",
      "Época 60/100: Train Loss: 0.076772, Test Loss: 0.079208\n",
      "Época 80/100: Train Loss: 0.076760, Test Loss: 0.079164\n"
     ]
    },
    {
     "name": "stderr",
     "output_type": "stream",
     "text": [
      "[I 2025-07-14 23:32:06,182] Trial 17 finished with value: 0.07915468070247811 and parameters: {'hidden_size': 26, 'num_layers': 2, 'lr': 7.588205449691549e-05, 'weight_decay': 0.00026875278181102974}. Best is trial 11 with value: 0.07905985451214118.\n"
     ]
    },
    {
     "name": "stdout",
     "output_type": "stream",
     "text": [
      "Época 100/100: Train Loss: 0.076754, Test Loss: 0.079155\n",
      "Época 20/100: Train Loss: 0.078155, Test Loss: 0.080441\n",
      "Época 40/100: Train Loss: 0.076972, Test Loss: 0.079424\n",
      "Época 60/100: Train Loss: 0.076928, Test Loss: 0.079380\n",
      "Época 80/100: Train Loss: 0.076916, Test Loss: 0.079347\n"
     ]
    },
    {
     "name": "stderr",
     "output_type": "stream",
     "text": [
      "[I 2025-07-14 23:35:58,854] Trial 18 finished with value: 0.07934185386078271 and parameters: {'hidden_size': 8, 'num_layers': 2, 'lr': 2.6255743991475525e-05, 'weight_decay': 3.29886448008865e-06}. Best is trial 11 with value: 0.07905985451214118.\n"
     ]
    },
    {
     "name": "stdout",
     "output_type": "stream",
     "text": [
      "Época 100/100: Train Loss: 0.076914, Test Loss: 0.079342\n",
      "Época 20/100: Train Loss: 0.076824, Test Loss: 0.079196\n",
      "Época 40/100: Train Loss: 0.076730, Test Loss: 0.079172\n",
      "Época 60/100: Train Loss: 0.076706, Test Loss: 0.079140\n",
      "Época 80/100: Train Loss: 0.076694, Test Loss: 0.079115\n"
     ]
    },
    {
     "name": "stderr",
     "output_type": "stream",
     "text": [
      "[I 2025-07-14 23:40:02,268] Trial 19 finished with value: 0.07911380655281075 and parameters: {'hidden_size': 20, 'num_layers': 2, 'lr': 0.000466783581930946, 'weight_decay': 7.348504978646918e-06}. Best is trial 11 with value: 0.07905985451214118.\n",
      "[I 2025-07-14 23:40:02,269] A new study created in memory with name: no-name-2f4d5494-df83-4913-a413-3591364c19d6\n"
     ]
    },
    {
     "name": "stdout",
     "output_type": "stream",
     "text": [
      "Época 100/100: Train Loss: 0.076692, Test Loss: 0.079114\n",
      "Best hyperparameters:  {'hidden_size': 16, 'num_layers': 2, 'lr': 9.53732587571571e-05, 'weight_decay': 4.6738485421988906e-05}\n",
      "Best validation loss:  0.07905985451214118\n",
      "Época 20/100: Train Loss: 0.077018, Test Loss: 0.079474\n"
     ]
    },
    {
     "name": "stderr",
     "output_type": "stream",
     "text": [
      "[I 2025-07-14 23:41:10,557] Trial 0 finished with value: 0.07942328114215642 and parameters: {'hidden_size': 9, 'num_layers': 1, 'lr': 0.0036059450278554638, 'weight_decay': 4.977211291005836e-05}. Best is trial 0 with value: 0.07942328114215642.\n"
     ]
    },
    {
     "name": "stdout",
     "output_type": "stream",
     "text": [
      "Early stopping na época 24\n",
      "Época 20/100: Train Loss: 0.076950, Test Loss: 0.079459\n"
     ]
    },
    {
     "name": "stderr",
     "output_type": "stream",
     "text": [
      "[I 2025-07-14 23:43:15,906] Trial 1 finished with value: 0.07944829140419829 and parameters: {'hidden_size': 24, 'num_layers': 2, 'lr': 0.00037533642308213745, 'weight_decay': 1.2610827318231457e-05}. Best is trial 0 with value: 0.07942328114215642.\n"
     ]
    },
    {
     "name": "stdout",
     "output_type": "stream",
     "text": [
      "Early stopping na época 33\n",
      "Época 20/100: Train Loss: 0.076972, Test Loss: 0.079403\n",
      "Época 40/100: Train Loss: 0.076964, Test Loss: 0.079394\n",
      "Época 60/100: Train Loss: 0.076962, Test Loss: 0.079392\n",
      "Época 80/100: Train Loss: 0.076962, Test Loss: 0.079391\n"
     ]
    },
    {
     "name": "stderr",
     "output_type": "stream",
     "text": [
      "[I 2025-07-14 23:47:41,712] Trial 2 finished with value: 0.07939145744748448 and parameters: {'hidden_size': 9, 'num_layers': 1, 'lr': 3.655124748417701e-05, 'weight_decay': 3.5586243153721083e-06}. Best is trial 2 with value: 0.07939145744748448.\n"
     ]
    },
    {
     "name": "stdout",
     "output_type": "stream",
     "text": [
      "Early stopping na época 93\n",
      "Época 20/100: Train Loss: 0.076999, Test Loss: 0.079458\n"
     ]
    },
    {
     "name": "stderr",
     "output_type": "stream",
     "text": [
      "[I 2025-07-14 23:49:12,707] Trial 3 finished with value: 0.07940435818477308 and parameters: {'hidden_size': 22, 'num_layers': 2, 'lr': 0.0010220853198115868, 'weight_decay': 4.87456701789271e-05}. Best is trial 2 with value: 0.07939145744748448.\n"
     ]
    },
    {
     "name": "stdout",
     "output_type": "stream",
     "text": [
      "Early stopping na época 24\n"
     ]
    },
    {
     "name": "stderr",
     "output_type": "stream",
     "text": [
      "[I 2025-07-14 23:49:58,821] Trial 4 finished with value: 0.07936212557737958 and parameters: {'hidden_size': 24, 'num_layers': 1, 'lr': 0.00166146524082475, 'weight_decay': 0.00011688437560675039}. Best is trial 4 with value: 0.07936212557737958.\n"
     ]
    },
    {
     "name": "stdout",
     "output_type": "stream",
     "text": [
      "Early stopping na época 16\n"
     ]
    },
    {
     "name": "stderr",
     "output_type": "stream",
     "text": [
      "[I 2025-07-14 23:51:07,222] Trial 5 finished with value: 0.07947718024968284 and parameters: {'hidden_size': 24, 'num_layers': 2, 'lr': 0.000394591966749879, 'weight_decay': 2.3926130232882416e-06}. Best is trial 4 with value: 0.07936212557737958.\n"
     ]
    },
    {
     "name": "stdout",
     "output_type": "stream",
     "text": [
      "Early stopping na época 18\n",
      "Época 20/100: Train Loss: 0.076941, Test Loss: 0.079437\n"
     ]
    },
    {
     "name": "stderr",
     "output_type": "stream",
     "text": [
      "[I 2025-07-14 23:52:31,790] Trial 6 finished with value: 0.07942291895293346 and parameters: {'hidden_size': 28, 'num_layers': 2, 'lr': 0.00012718558573884494, 'weight_decay': 0.00013176951245618613}. Best is trial 4 with value: 0.07936212557737958.\n"
     ]
    },
    {
     "name": "stdout",
     "output_type": "stream",
     "text": [
      "Early stopping na época 22\n",
      "Época 20/100: Train Loss: 0.077017, Test Loss: 0.079410\n",
      "Época 40/100: Train Loss: 0.076974, Test Loss: 0.079375\n",
      "Época 60/100: Train Loss: 0.076947, Test Loss: 0.079355\n",
      "Época 80/100: Train Loss: 0.076938, Test Loss: 0.079347\n"
     ]
    },
    {
     "name": "stderr",
     "output_type": "stream",
     "text": [
      "[I 2025-07-14 23:57:21,322] Trial 7 finished with value: 0.07934550970588646 and parameters: {'hidden_size': 26, 'num_layers': 1, 'lr': 1.2168904881988983e-05, 'weight_decay': 0.0013048254542648529}. Best is trial 7 with value: 0.07934550970588646.\n"
     ]
    },
    {
     "name": "stdout",
     "output_type": "stream",
     "text": [
      "Época 100/100: Train Loss: 0.076936, Test Loss: 0.079346\n",
      "Época 20/100: Train Loss: 0.076937, Test Loss: 0.079348\n",
      "Época 40/100: Train Loss: 0.076923, Test Loss: 0.079329\n",
      "Época 60/100: Train Loss: 0.076920, Test Loss: 0.079328\n",
      "Época 80/100: Train Loss: 0.076919, Test Loss: 0.079328\n"
     ]
    },
    {
     "name": "stderr",
     "output_type": "stream",
     "text": [
      "[I 2025-07-15 00:02:01,888] Trial 8 finished with value: 0.0793280787740464 and parameters: {'hidden_size': 24, 'num_layers': 1, 'lr': 3.977744609342973e-05, 'weight_decay': 0.0032407585068355014}. Best is trial 8 with value: 0.0793280787740464.\n"
     ]
    },
    {
     "name": "stdout",
     "output_type": "stream",
     "text": [
      "Early stopping na época 97\n",
      "Época 20/100: Train Loss: 0.076935, Test Loss: 0.079370\n",
      "Época 40/100: Train Loss: 0.076928, Test Loss: 0.079353\n",
      "Época 60/100: Train Loss: 0.076926, Test Loss: 0.079351\n",
      "Época 80/100: Train Loss: 0.076925, Test Loss: 0.079350\n"
     ]
    },
    {
     "name": "stderr",
     "output_type": "stream",
     "text": [
      "[I 2025-07-15 00:06:48,130] Trial 9 finished with value: 0.0793502923296807 and parameters: {'hidden_size': 20, 'num_layers': 1, 'lr': 0.00010177999876170678, 'weight_decay': 8.625534270364879e-06}. Best is trial 8 with value: 0.0793280787740464.\n"
     ]
    },
    {
     "name": "stdout",
     "output_type": "stream",
     "text": [
      "Época 100/100: Train Loss: 0.076925, Test Loss: 0.079351\n",
      "Época 20/100: Train Loss: 0.077541, Test Loss: 0.079853\n"
     ]
    },
    {
     "name": "stderr",
     "output_type": "stream",
     "text": [
      "[I 2025-07-15 00:07:59,082] Trial 10 finished with value: 0.07969748240270436 and parameters: {'hidden_size': 15, 'num_layers': 1, 'lr': 0.009862726381209433, 'weight_decay': 0.009836854160426407}. Best is trial 8 with value: 0.0793280787740464.\n"
     ]
    },
    {
     "name": "stdout",
     "output_type": "stream",
     "text": [
      "Early stopping na época 25\n",
      "Época 20/100: Train Loss: 0.077078, Test Loss: 0.079393\n",
      "Época 40/100: Train Loss: 0.076945, Test Loss: 0.079338\n",
      "Época 60/100: Train Loss: 0.076934, Test Loss: 0.079333\n",
      "Época 80/100: Train Loss: 0.076932, Test Loss: 0.079333\n"
     ]
    },
    {
     "name": "stderr",
     "output_type": "stream",
     "text": [
      "[I 2025-07-15 00:12:48,731] Trial 11 finished with value: 0.07933289253633452 and parameters: {'hidden_size': 29, 'num_layers': 1, 'lr': 1.0540110096036216e-05, 'weight_decay': 0.003558306210395019}. Best is trial 8 with value: 0.0793280787740464.\n"
     ]
    },
    {
     "name": "stdout",
     "output_type": "stream",
     "text": [
      "Época 100/100: Train Loss: 0.076932, Test Loss: 0.079333\n",
      "Época 20/100: Train Loss: 0.076996, Test Loss: 0.079382\n",
      "Época 40/100: Train Loss: 0.076946, Test Loss: 0.079345\n",
      "Época 60/100: Train Loss: 0.076930, Test Loss: 0.079335\n",
      "Época 80/100: Train Loss: 0.076928, Test Loss: 0.079333\n"
     ]
    },
    {
     "name": "stderr",
     "output_type": "stream",
     "text": [
      "[I 2025-07-15 00:17:37,675] Trial 12 finished with value: 0.07933296871511904 and parameters: {'hidden_size': 30, 'num_layers': 1, 'lr': 1.0265734475054426e-05, 'weight_decay': 0.00234502591786426}. Best is trial 8 with value: 0.0793280787740464.\n"
     ]
    },
    {
     "name": "stdout",
     "output_type": "stream",
     "text": [
      "Época 100/100: Train Loss: 0.076927, Test Loss: 0.079333\n",
      "Época 20/100: Train Loss: 0.076947, Test Loss: 0.079372\n",
      "Época 40/100: Train Loss: 0.076942, Test Loss: 0.079366\n",
      "Época 60/100: Train Loss: 0.076941, Test Loss: 0.079365\n",
      "Época 80/100: Train Loss: 0.076941, Test Loss: 0.079365\n"
     ]
    },
    {
     "name": "stderr",
     "output_type": "stream",
     "text": [
      "[I 2025-07-15 00:21:53,399] Trial 13 finished with value: 0.07936496516885279 and parameters: {'hidden_size': 15, 'num_layers': 1, 'lr': 3.5454757261848466e-05, 'weight_decay': 0.0008924135464669191}. Best is trial 8 with value: 0.0793280787740464.\n"
     ]
    },
    {
     "name": "stdout",
     "output_type": "stream",
     "text": [
      "Early stopping na época 90\n",
      "Época 20/100: Train Loss: 0.077064, Test Loss: 0.079401\n",
      "Época 40/100: Train Loss: 0.077041, Test Loss: 0.079402\n"
     ]
    },
    {
     "name": "stderr",
     "output_type": "stream",
     "text": [
      "[I 2025-07-15 00:23:56,852] Trial 14 finished with value: 0.07939463392002126 and parameters: {'hidden_size': 30, 'num_layers': 1, 'lr': 2.7059702223591683e-05, 'weight_decay': 0.009634627843753895}. Best is trial 8 with value: 0.0793280787740464.\n"
     ]
    },
    {
     "name": "stdout",
     "output_type": "stream",
     "text": [
      "Early stopping na época 43\n",
      "Época 20/100: Train Loss: 0.076918, Test Loss: 0.079375\n",
      "Época 40/100: Train Loss: 0.076913, Test Loss: 0.079343\n",
      "Época 60/100: Train Loss: 0.076910, Test Loss: 0.079337\n",
      "Época 80/100: Train Loss: 0.076909, Test Loss: 0.079336\n"
     ]
    },
    {
     "name": "stderr",
     "output_type": "stream",
     "text": [
      "[I 2025-07-15 07:42:29,279] Trial 15 finished with value: 0.07933553995130813 and parameters: {'hidden_size': 20, 'num_layers': 1, 'lr': 0.00012697429307056865, 'weight_decay': 0.00046665467424882625}. Best is trial 8 with value: 0.0793280787740464.\n"
     ]
    },
    {
     "name": "stdout",
     "output_type": "stream",
     "text": [
      "Época 100/100: Train Loss: 0.076909, Test Loss: 0.079336\n",
      "Época 20/100: Train Loss: 0.076953, Test Loss: 0.079353\n",
      "Época 40/100: Train Loss: 0.076942, Test Loss: 0.079347\n",
      "Época 60/100: Train Loss: 0.076941, Test Loss: 0.079347\n",
      "Época 80/100: Train Loss: 0.076940, Test Loss: 0.079347\n"
     ]
    },
    {
     "name": "stderr",
     "output_type": "stream",
     "text": [
      "[I 2025-07-15 07:46:34,227] Trial 16 finished with value: 0.07934687335435386 and parameters: {'hidden_size': 17, 'num_layers': 1, 'lr': 2.1010305612200847e-05, 'weight_decay': 0.0032285150267897973}. Best is trial 8 with value: 0.0793280787740464.\n"
     ]
    },
    {
     "name": "stdout",
     "output_type": "stream",
     "text": [
      "Early stopping na época 92\n",
      "Época 20/100: Train Loss: 0.076950, Test Loss: 0.079428\n",
      "Época 40/100: Train Loss: 0.076948, Test Loss: 0.079392\n",
      "Época 60/100: Train Loss: 0.076945, Test Loss: 0.079379\n",
      "Época 80/100: Train Loss: 0.076944, Test Loss: 0.079378\n"
     ]
    },
    {
     "name": "stderr",
     "output_type": "stream",
     "text": [
      "[I 2025-07-15 07:52:44,088] Trial 17 finished with value: 0.07937813709196571 and parameters: {'hidden_size': 28, 'num_layers': 2, 'lr': 6.67743124274145e-05, 'weight_decay': 0.00034261270556687696}. Best is trial 8 with value: 0.0793280787740464.\n"
     ]
    },
    {
     "name": "stdout",
     "output_type": "stream",
     "text": [
      "Época 100/100: Train Loss: 0.076944, Test Loss: 0.079378\n",
      "Época 20/100: Train Loss: 0.077082, Test Loss: 0.079503\n"
     ]
    },
    {
     "name": "stderr",
     "output_type": "stream",
     "text": [
      "[I 2025-07-15 07:54:29,932] Trial 18 finished with value: 0.07949969148322872 and parameters: {'hidden_size': 6, 'num_layers': 1, 'lr': 6.167068327690242e-05, 'weight_decay': 0.004360610357745941}. Best is trial 8 with value: 0.0793280787740464.\n"
     ]
    },
    {
     "name": "stdout",
     "output_type": "stream",
     "text": [
      "Early stopping na época 39\n",
      "Época 20/100: Train Loss: 0.077003, Test Loss: 0.079411\n",
      "Época 40/100: Train Loss: 0.076968, Test Loss: 0.079383\n",
      "Época 60/100: Train Loss: 0.076950, Test Loss: 0.079365\n",
      "Época 80/100: Train Loss: 0.076947, Test Loss: 0.079362\n"
     ]
    },
    {
     "name": "stderr",
     "output_type": "stream",
     "text": [
      "[I 2025-07-15 07:59:23,674] Trial 19 finished with value: 0.07936111697544382 and parameters: {'hidden_size': 27, 'num_layers': 1, 'lr': 1.6796137173658842e-05, 'weight_decay': 0.0003982437703194071}. Best is trial 8 with value: 0.0793280787740464.\n",
      "[I 2025-07-15 07:59:23,676] A new study created in memory with name: no-name-123aeeee-ad94-4b58-857d-6594fb8d9dfb\n"
     ]
    },
    {
     "name": "stdout",
     "output_type": "stream",
     "text": [
      "Época 100/100: Train Loss: 0.076946, Test Loss: 0.079361\n",
      "Best hyperparameters:  {'hidden_size': 24, 'num_layers': 1, 'lr': 3.977744609342973e-05, 'weight_decay': 0.0032407585068355014}\n",
      "Best validation loss:  0.0793280787740464\n"
     ]
    },
    {
     "name": "stderr",
     "output_type": "stream",
     "text": [
      "[I 2025-07-15 08:00:27,725] Trial 0 finished with value: 0.08030897384790117 and parameters: {'hidden_size': 20, 'num_layers': 2, 'lr': 0.0025566701453289013, 'weight_decay': 0.007676235478627564}. Best is trial 0 with value: 0.08030897384790117.\n"
     ]
    },
    {
     "name": "stdout",
     "output_type": "stream",
     "text": [
      "Early stopping na época 16\n",
      "Época 20/100: Train Loss: 0.077179, Test Loss: 0.079404\n",
      "Época 40/100: Train Loss: 0.077070, Test Loss: 0.079265\n",
      "Época 60/100: Train Loss: 0.076858, Test Loss: 0.079261\n"
     ]
    },
    {
     "name": "stderr",
     "output_type": "stream",
     "text": [
      "[I 2025-07-15 08:04:44,970] Trial 1 finished with value: 0.07925740060009505 and parameters: {'hidden_size': 20, 'num_layers': 2, 'lr': 0.0008988725136751518, 'weight_decay': 4.4092704193325034e-06}. Best is trial 1 with value: 0.07925740060009505.\n"
     ]
    },
    {
     "name": "stdout",
     "output_type": "stream",
     "text": [
      "Early stopping na época 64\n"
     ]
    },
    {
     "name": "stderr",
     "output_type": "stream",
     "text": [
      "[I 2025-07-15 08:05:51,749] Trial 2 finished with value: 0.079762564301831 and parameters: {'hidden_size': 13, 'num_layers': 2, 'lr': 0.001632552536144803, 'weight_decay': 0.0022011510743169043}. Best is trial 1 with value: 0.07925740060009505.\n"
     ]
    },
    {
     "name": "stdout",
     "output_type": "stream",
     "text": [
      "Early stopping na época 17\n",
      "Época 20/100: Train Loss: 0.077318, Test Loss: 0.079714\n",
      "Época 40/100: Train Loss: 0.077059, Test Loss: 0.079500\n",
      "Época 60/100: Train Loss: 0.077017, Test Loss: 0.079463\n",
      "Época 80/100: Train Loss: 0.077011, Test Loss: 0.079456\n"
     ]
    },
    {
     "name": "stderr",
     "output_type": "stream",
     "text": [
      "[I 2025-07-15 08:12:37,495] Trial 3 finished with value: 0.07945443318910114 and parameters: {'hidden_size': 25, 'num_layers': 2, 'lr': 1.0691414511500616e-05, 'weight_decay': 3.1531965273942692e-06}. Best is trial 1 with value: 0.07925740060009505.\n"
     ]
    },
    {
     "name": "stdout",
     "output_type": "stream",
     "text": [
      "Época 100/100: Train Loss: 0.077010, Test Loss: 0.079454\n",
      "Época 20/100: Train Loss: 0.077295, Test Loss: 0.079231\n",
      "Época 40/100: Train Loss: 0.076998, Test Loss: 0.079254\n"
     ]
    },
    {
     "name": "stderr",
     "output_type": "stream",
     "text": [
      "[I 2025-07-15 08:16:07,076] Trial 4 finished with value: 0.07919643846974117 and parameters: {'hidden_size': 21, 'num_layers': 2, 'lr': 0.001795777366159885, 'weight_decay': 1.9248472309738666e-06}. Best is trial 4 with value: 0.07919643846974117.\n"
     ]
    },
    {
     "name": "stdout",
     "output_type": "stream",
     "text": [
      "Early stopping na época 52\n",
      "Época 20/100: Train Loss: 0.076984, Test Loss: 0.079476\n",
      "Época 40/100: Train Loss: 0.076981, Test Loss: 0.079432\n",
      "Época 60/100: Train Loss: 0.076978, Test Loss: 0.079422\n",
      "Época 80/100: Train Loss: 0.076977, Test Loss: 0.079420\n"
     ]
    },
    {
     "name": "stderr",
     "output_type": "stream",
     "text": [
      "[I 2025-07-15 08:21:05,117] Trial 5 finished with value: 0.0794195721921039 and parameters: {'hidden_size': 17, 'num_layers': 1, 'lr': 0.00017574760295708083, 'weight_decay': 5.771323922788797e-05}. Best is trial 4 with value: 0.07919643846974117.\n"
     ]
    },
    {
     "name": "stdout",
     "output_type": "stream",
     "text": [
      "Época 100/100: Train Loss: 0.076976, Test Loss: 0.079420\n",
      "Época 20/100: Train Loss: 0.094158, Test Loss: 0.087567\n",
      "Época 40/100: Train Loss: 0.077458, Test Loss: 0.079950\n",
      "Época 60/100: Train Loss: 0.077452, Test Loss: 0.079942\n",
      "Época 80/100: Train Loss: 0.077450, Test Loss: 0.079940\n"
     ]
    },
    {
     "name": "stderr",
     "output_type": "stream",
     "text": [
      "[I 2025-07-15 08:28:08,276] Trial 6 finished with value: 0.07994033824312224 and parameters: {'hidden_size': 9, 'num_layers': 2, 'lr': 1.2382582483694082e-05, 'weight_decay': 4.199120624150322e-06}. Best is trial 4 with value: 0.07919643846974117.\n"
     ]
    },
    {
     "name": "stdout",
     "output_type": "stream",
     "text": [
      "Early stopping na época 99\n",
      "Época 20/100: Train Loss: 0.077600, Test Loss: 0.079663\n",
      "Época 40/100: Train Loss: 0.077445, Test Loss: 0.079411\n",
      "Época 60/100: Train Loss: 0.077282, Test Loss: 0.079220\n",
      "Época 80/100: Train Loss: 0.077021, Test Loss: 0.079261\n"
     ]
    },
    {
     "name": "stderr",
     "output_type": "stream",
     "text": [
      "[I 2025-07-15 08:32:51,875] Trial 7 finished with value: 0.07920659505443214 and parameters: {'hidden_size': 13, 'num_layers': 1, 'lr': 0.0051072526442277125, 'weight_decay': 1.4134771020708912e-05}. Best is trial 4 with value: 0.07919643846974117.\n"
     ]
    },
    {
     "name": "stdout",
     "output_type": "stream",
     "text": [
      "Early stopping na época 88\n",
      "Época 20/100: Train Loss: 0.077133, Test Loss: 0.079525\n",
      "Época 40/100: Train Loss: 0.077005, Test Loss: 0.079424\n",
      "Época 60/100: Train Loss: 0.076973, Test Loss: 0.079396\n",
      "Época 80/100: Train Loss: 0.076967, Test Loss: 0.079391\n"
     ]
    },
    {
     "name": "stderr",
     "output_type": "stream",
     "text": [
      "[I 2025-07-15 08:38:29,476] Trial 8 finished with value: 0.07939011388751742 and parameters: {'hidden_size': 20, 'num_layers': 1, 'lr': 2.948504975783424e-05, 'weight_decay': 0.0008690728774412117}. Best is trial 4 with value: 0.07919643846974117.\n"
     ]
    },
    {
     "name": "stdout",
     "output_type": "stream",
     "text": [
      "Época 100/100: Train Loss: 0.076966, Test Loss: 0.079390\n",
      "Época 20/100: Train Loss: 0.077067, Test Loss: 0.079480\n",
      "Época 40/100: Train Loss: 0.076986, Test Loss: 0.079427\n",
      "Época 60/100: Train Loss: 0.076976, Test Loss: 0.079404\n",
      "Época 80/100: Train Loss: 0.076974, Test Loss: 0.079403\n"
     ]
    },
    {
     "name": "stderr",
     "output_type": "stream",
     "text": [
      "[I 2025-07-15 08:43:27,583] Trial 9 finished with value: 0.07940240132975387 and parameters: {'hidden_size': 18, 'num_layers': 1, 'lr': 4.605637543183646e-05, 'weight_decay': 0.0009342188709948325}. Best is trial 4 with value: 0.07919643846974117.\n"
     ]
    },
    {
     "name": "stdout",
     "output_type": "stream",
     "text": [
      "Época 100/100: Train Loss: 0.076974, Test Loss: 0.079402\n",
      "Época 20/100: Train Loss: 0.077033, Test Loss: 0.079568\n",
      "Época 40/100: Train Loss: 0.077029, Test Loss: 0.079522\n",
      "Época 60/100: Train Loss: 0.077026, Test Loss: 0.079481\n",
      "Época 80/100: Train Loss: 0.077023, Test Loss: 0.079474\n"
     ]
    },
    {
     "name": "stderr",
     "output_type": "stream",
     "text": [
      "[I 2025-07-15 08:50:20,786] Trial 10 finished with value: 0.07947296458445319 and parameters: {'hidden_size': 29, 'num_layers': 2, 'lr': 0.0003443934837893114, 'weight_decay': 4.4395492299051714e-05}. Best is trial 4 with value: 0.07919643846974117.\n"
     ]
    },
    {
     "name": "stdout",
     "output_type": "stream",
     "text": [
      "Época 100/100: Train Loss: 0.077023, Test Loss: 0.079473\n",
      "Época 20/100: Train Loss: 0.077502, Test Loss: 0.079466\n",
      "Época 40/100: Train Loss: 0.077387, Test Loss: 0.079364\n",
      "Época 60/100: Train Loss: 0.077358, Test Loss: 0.079334\n",
      "Época 80/100: Train Loss: 0.077335, Test Loss: 0.079313\n"
     ]
    },
    {
     "name": "stderr",
     "output_type": "stream",
     "text": [
      "[I 2025-07-15 08:55:12,750] Trial 11 finished with value: 0.07928892977824903 and parameters: {'hidden_size': 8, 'num_layers': 1, 'lr': 0.008994967419517406, 'weight_decay': 1.1310012355385279e-06}. Best is trial 4 with value: 0.07919643846974117.\n"
     ]
    },
    {
     "name": "stdout",
     "output_type": "stream",
     "text": [
      "Época 100/100: Train Loss: 0.077299, Test Loss: 0.079289\n",
      "Época 20/100: Train Loss: 0.077385, Test Loss: 0.079403\n",
      "Época 40/100: Train Loss: 0.077254, Test Loss: 0.079224\n"
     ]
    },
    {
     "name": "stderr",
     "output_type": "stream",
     "text": [
      "[I 2025-07-15 08:58:05,872] Trial 12 finished with value: 0.0792204739559935 and parameters: {'hidden_size': 13, 'num_layers': 1, 'lr': 0.009624206717622173, 'weight_decay': 2.0554114309156138e-05}. Best is trial 4 with value: 0.07919643846974117.\n"
     ]
    },
    {
     "name": "stdout",
     "output_type": "stream",
     "text": [
      "Early stopping na época 59\n",
      "Época 20/100: Train Loss: 0.077335, Test Loss: 0.079528\n",
      "Época 40/100: Train Loss: 0.077170, Test Loss: 0.079255\n",
      "Época 60/100: Train Loss: 0.077127, Test Loss: 0.079216\n"
     ]
    },
    {
     "name": "stderr",
     "output_type": "stream",
     "text": [
      "[I 2025-07-15 09:01:51,282] Trial 13 finished with value: 0.07921610714093735 and parameters: {'hidden_size': 5, 'num_layers': 1, 'lr': 0.0035071611846533308, 'weight_decay': 1.3678112392736184e-05}. Best is trial 4 with value: 0.07919643846974117.\n"
     ]
    },
    {
     "name": "stdout",
     "output_type": "stream",
     "text": [
      "Early stopping na época 76\n"
     ]
    },
    {
     "name": "stderr",
     "output_type": "stream",
     "text": [
      "[I 2025-07-15 09:02:48,604] Trial 14 finished with value: 0.0794348264904055 and parameters: {'hidden_size': 25, 'num_layers': 1, 'lr': 0.0006322380840533467, 'weight_decay': 0.00018133161647168144}. Best is trial 4 with value: 0.07919643846974117.\n"
     ]
    },
    {
     "name": "stdout",
     "output_type": "stream",
     "text": [
      "Early stopping na época 19\n",
      "Época 20/100: Train Loss: 0.077486, Test Loss: 0.079286\n",
      "Época 40/100: Train Loss: 0.077084, Test Loss: 0.079232\n",
      "Época 60/100: Train Loss: 0.076874, Test Loss: 0.079240\n"
     ]
    },
    {
     "name": "stderr",
     "output_type": "stream",
     "text": [
      "[I 2025-07-15 09:06:50,479] Trial 15 finished with value: 0.07923027094215426 and parameters: {'hidden_size': 14, 'num_layers': 2, 'lr': 0.003991245548187262, 'weight_decay': 1.2957794872980266e-06}. Best is trial 4 with value: 0.07919643846974117.\n"
     ]
    },
    {
     "name": "stdout",
     "output_type": "stream",
     "text": [
      "Early stopping na época 61\n",
      "Época 20/100: Train Loss: 0.077454, Test Loss: 0.079513\n",
      "Época 40/100: Train Loss: 0.077411, Test Loss: 0.079491\n",
      "Época 60/100: Train Loss: 0.077349, Test Loss: 0.079432\n",
      "Época 80/100: Train Loss: 0.077242, Test Loss: 0.079306\n"
     ]
    },
    {
     "name": "stderr",
     "output_type": "stream",
     "text": [
      "[I 2025-07-15 20:40:13,040] Trial 16 finished with value: 0.07924384381622077 and parameters: {'hidden_size': 24, 'num_layers': 2, 'lr': 0.0012503376644712402, 'weight_decay': 1.0185499456980372e-05}. Best is trial 4 with value: 0.07919643846974117.\n"
     ]
    },
    {
     "name": "stdout",
     "output_type": "stream",
     "text": [
      "Época 100/100: Train Loss: 0.077182, Test Loss: 0.079244\n",
      "Época 20/100: Train Loss: 0.076944, Test Loss: 0.079413\n",
      "Época 40/100: Train Loss: 0.076939, Test Loss: 0.079377\n",
      "Época 60/100: Train Loss: 0.076936, Test Loss: 0.079368\n",
      "Época 80/100: Train Loss: 0.076935, Test Loss: 0.079366\n"
     ]
    },
    {
     "name": "stderr",
     "output_type": "stream",
     "text": [
      "[I 2025-07-15 20:45:09,807] Trial 17 finished with value: 0.07936610240982547 and parameters: {'hidden_size': 30, 'num_layers': 1, 'lr': 0.00016197794586553485, 'weight_decay': 0.00020575422015592696}. Best is trial 4 with value: 0.07919643846974117.\n"
     ]
    },
    {
     "name": "stdout",
     "output_type": "stream",
     "text": [
      "Época 100/100: Train Loss: 0.076935, Test Loss: 0.079366\n",
      "Época 20/100: Train Loss: 0.077279, Test Loss: 0.079209\n"
     ]
    },
    {
     "name": "stderr",
     "output_type": "stream",
     "text": [
      "[I 2025-07-15 20:47:28,185] Trial 18 finished with value: 0.07920830536837856 and parameters: {'hidden_size': 15, 'num_layers': 2, 'lr': 0.005491809090402962, 'weight_decay': 7.149483697776798e-06}. Best is trial 4 with value: 0.07919643846974117.\n"
     ]
    },
    {
     "name": "stdout",
     "output_type": "stream",
     "text": [
      "Early stopping na época 38\n",
      "Época 20/100: Train Loss: 0.077031, Test Loss: 0.079544\n",
      "Época 40/100: Train Loss: 0.077016, Test Loss: 0.079523\n",
      "Época 60/100: Train Loss: 0.076986, Test Loss: 0.079476\n",
      "Época 80/100: Train Loss: 0.076980, Test Loss: 0.079428\n"
     ]
    },
    {
     "name": "stderr",
     "output_type": "stream",
     "text": [
      "[I 2025-07-15 20:52:08,954] Trial 19 finished with value: 0.07942236978815843 and parameters: {'hidden_size': 11, 'num_layers': 1, 'lr': 0.0004687815331219373, 'weight_decay': 3.112448046088695e-05}. Best is trial 4 with value: 0.07919643846974117.\n"
     ]
    },
    {
     "name": "stdout",
     "output_type": "stream",
     "text": [
      "Época 100/100: Train Loss: 0.076977, Test Loss: 0.079422\n",
      "Best hyperparameters:  {'hidden_size': 21, 'num_layers': 2, 'lr': 0.001795777366159885, 'weight_decay': 1.9248472309738666e-06}\n",
      "Best validation loss:  0.07919643846974117\n",
      "Melhores hiperparâmetros para MLP: {'hidden_size': 16, 'num_layers': 2, 'lr': 9.53732587571571e-05, 'weight_decay': 4.6738485421988906e-05}\n",
      "Melhores hiperparâmetros para GRU: {'hidden_size': 24, 'num_layers': 1, 'lr': 3.977744609342973e-05, 'weight_decay': 0.0032407585068355014}\n",
      "Melhores hiperparâmetros para LSTM: {'hidden_size': 21, 'num_layers': 2, 'lr': 0.001795777366159885, 'weight_decay': 1.9248472309738666e-06}\n"
     ]
    }
   ],
   "source": [
    "best_params_mlp = optimize_hyperparameters(train_loader, test_loader, input_size, output_size=1, n_trials=20, model_function=SimpleMLP)\n",
    "best_params_gru = optimize_hyperparameters(train_loader, test_loader, input_size, output_size=1, n_trials=20, model_function=SimpleGRU)\n",
    "best_params_lstm = optimize_hyperparameters(train_loader, test_loader, input_size, output_size=1, n_trials=20, model_function=SimpleLSTM)\n",
    "print(\"Melhores hiperparâmetros para MLP:\", best_params_mlp)\n",
    "print(\"Melhores hiperparâmetros para GRU:\", best_params_gru)\n",
    "print(\"Melhores hiperparâmetros para LSTM:\", best_params_lstm)"
   ]
  }
 ],
 "metadata": {
  "kernelspec": {
   "display_name": "enga74-trabalhofinal",
   "language": "python",
   "name": "python3"
  },
  "language_info": {
   "codemirror_mode": {
    "name": "ipython",
    "version": 3
   },
   "file_extension": ".py",
   "mimetype": "text/x-python",
   "name": "python",
   "nbconvert_exporter": "python",
   "pygments_lexer": "ipython3",
   "version": "3.13.3"
  }
 },
 "nbformat": 4,
 "nbformat_minor": 5
}
